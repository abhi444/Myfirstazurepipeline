# Project 1 - Customer Orders ETL

```python
# Join customer and order data
joined = customers.join(orders, 'customer_id')
```
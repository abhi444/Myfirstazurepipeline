# Day 1 - Intro to Databricks

```python
# Hello World in PySpark
spark.range(5).show()
```

print("abhishek");

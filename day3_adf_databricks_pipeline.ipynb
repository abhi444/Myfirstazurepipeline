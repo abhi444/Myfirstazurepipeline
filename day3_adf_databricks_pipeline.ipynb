# Day 3 - ADF Integration

```python
# Sample transformation
from pyspark.sql.functions import col
df = df.withColumn('amount', col('amount') * 1.2)
```
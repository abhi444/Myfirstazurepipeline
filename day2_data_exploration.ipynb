# Day 2 - Data Exploration

```python
df = spark.read.csv('/dbfs/tmp/sales_data.csv', header=True, inferSchema=True)
df.show()
```
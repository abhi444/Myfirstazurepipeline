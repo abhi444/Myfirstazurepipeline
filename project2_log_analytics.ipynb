# Project 2 - Log Analytics

```python
# Extract errors
errors = logs.filter(logs.message.contains('ERROR'))
```